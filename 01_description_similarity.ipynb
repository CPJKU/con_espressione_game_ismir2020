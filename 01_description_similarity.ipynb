{
 "cells": [
  {
   "cell_type": "markdown",
   "metadata": {},
   "source": [
    "# 1. How similarly do listeners describe a performance of a piece?\n",
    "\n",
    "Probably the first question that arises concerns the similarity of the descriptions in the dataset, i.e., whether there are commonalities in the way listeners describe and like performances.\n",
    "\n",
    "In this notebook we present a sereis of analyses that provide different perspectives on the data.\n"
   ]
  },
  {
   "cell_type": "code",
   "execution_count": 1,
   "metadata": {},
   "outputs": [],
   "source": [
    "# import matplotlib\n",
    "# matplotlib.use('Qt5Agg')\n",
    "import os\n",
    "\n",
    "import numpy as np\n",
    "import matplotlib.pyplot as plt\n",
    "%matplotlib notebook\n",
    "import pandas as pd\n",
    "\n",
    "# from scripts.utils import davies_bouldin\n",
    "# import scipy.stats as spstats\n",
    "from stat_utils import LinearModel, standardize, cod, cohens_f2_from_data, correlation, f_oneway"
   ]
  },
  {
   "cell_type": "markdown",
   "metadata": {},
   "source": [
    "## Complexity of the Descriptions\n",
    "\n",
    "An interesting question is whether there is a relation between the musical background of the listeners and the complexity of their answers.\n",
    "In particular \n",
    "\n",
    "Using the Dale-Chall readability score, we can estimate.\n",
    "\n",
    "Answers that are a single (common) adjective are rated with a low score (meaning that would be easily understood by an average 4th-grade student), and answers that are longer use technical (i.e., musical) terms have a higher score.\n",
    "\n",
    "The following plot is a histogram of the values of the readability score. From this plot we can see that this is a bi-modal distribution, meaning that the answers tend to be either consist of simple (i.e., common) adjectives, or they are longer and contain specialized vocabulary."
   ]
  },
  {
   "cell_type": "code",
   "execution_count": null,
   "metadata": {},
   "outputs": [],
   "source": [
    "readability = df_biggame['answer_readability']\n",
    "# Adjust readability score to the meaningful range defined in Dale and Chall (1948)\n",
    "readability_adj = np.clip(readability, 4, 10)\n",
    "\n",
    "fig, axe = plt.subplots()\n",
    "axe.hist(readability_adj, 10)\n",
    "axe.set_xlabel('Readability score')\n",
    "axe.set_ylabel('Number of answers')\n",
    "plt.show()"
   ]
  },
  {
   "cell_type": "code",
   "execution_count": null,
   "metadata": {},
   "outputs": [],
   "source": [
    "easy_to_read = df_biggame['answer'][readability.argsort()[::1]][:5].values\n",
    "hard_to_read = df_biggame['answer'][readability.argsort()[::-1]][:5].values\n",
    "\n",
    "print('Mean Readability Score: {0:.1f}'.format(readability.mean()))\n",
    "print('Std Readability Score: {0:.1f}'.format(readability.std()))\n",
    "print('Easiest to Read:')\n",
    "print(easy_to_read)\n",
    "print('Hardest to read')\n",
    "print(hard_to_read)"
   ]
  },
  {
   "cell_type": "code",
   "execution_count": null,
   "metadata": {},
   "outputs": [],
   "source": [
    "unique_participant_ids, answers_per_participant = np.unique(df_biggame['participant_id'], return_counts=True)\n",
    "\n",
    "unique_participant_idxs = [np.where(df_biggame['participant_id'] == u)[0] for u in unique_participant_ids]"
   ]
  },
  {
   "cell_type": "code",
   "execution_count": null,
   "metadata": {},
   "outputs": [],
   "source": [
    "readability_per_participant = np.array([np.median(readability[uix]) for uix in unique_participant_idxs])\n",
    "\n",
    "fig, ax = plt.subplots()\n",
    "ax.hist(readability_per_participant)\n",
    "plt.show()"
   ]
  },
  {
   "cell_type": "code",
   "execution_count": null,
   "metadata": {},
   "outputs": [],
   "source": [
    "participant_info = pd.read_csv('./data/participants_profiles.csv')\n",
    "print(participant_info.columns)\n",
    "\n",
    "playing_piano_per_participant = np.zeros((len(unique_participant_ids)))\n",
    "education_per_participant = np.zeros(len(unique_participant_ids))\n",
    "listening_classical_music_per_participant = np.zeros(len(unique_participant_ids))\n",
    "\n",
    "for med, clm, pia, pid in zip(participant_info.music_education_years, \n",
    "                              participant_info.listening_to_classical_music,\n",
    "                              participant_info.playing_piano,\n",
    "                              participant_info.participant_id):\n",
    "    pix = np.where(unique_participant_ids == pid)[0]\n",
    "    education_per_participant[pix] = np.nan_to_num(med)\n",
    "    playing_piano_per_participant[pix] = np.nan_to_num(pia)\n",
    "    listening_classical_music_per_participant[pix] = np.nan_to_num(clm)"
   ]
  },
  {
   "cell_type": "code",
   "execution_count": null,
   "metadata": {},
   "outputs": [],
   "source": [
    "lm = LinearModel()\n",
    "\n",
    "y = readability_per_participant\n",
    "x = education_per_participant\n",
    "\n",
    "outlier_idxs = np.where(x < x.mean() + 2.5 * x.std())[0]\n",
    "x = x[outlier_idxs]\n",
    "y = y[outlier_idxs]\n",
    "# print(outlier_idxs)\n",
    "stats,_, y_hat = lm.test(x, y, \n",
    "                hypothesis_type=['gt', 'equal'], test_type='wald', return_preds=True,\n",
    "                      significance_level=0.05)\n",
    "print('R2:', cod(y, y_hat), correlation(y, y_hat), correlation(x, y))\n",
    "for p,st in zip(lm.params, stats):\n",
    "    print(p, st, st.reject_h0)\n",
    "    \n",
    "fig, ax = plt.subplots()\n",
    "ax.scatter(x, y)\n",
    "ax.plot(x, y_hat, c='black', linewidth=2)\n",
    "ax.set_ylabel('Dale-Chall readability score')\n",
    "ax.set_xlabel('Years of Musical Education')\n",
    "plt.show()"
   ]
  },
  {
   "cell_type": "code",
   "execution_count": null,
   "metadata": {},
   "outputs": [],
   "source": [
    "groups = [y[x<5], y[x>=5], y[x > 10]]\n",
    "\n",
    "anova = f_oneway(*groups)\n",
    "print(anova)\n",
    "\n",
    "fig, ax = plt.subplots()\n",
    "ax.violinplot(groups, showmedians=True)\n",
    "plt.show()"
   ]
  },
  {
   "cell_type": "code",
   "execution_count": null,
   "metadata": {},
   "outputs": [],
   "source": [
    "lm = LinearModel()\n",
    "\n",
    "y = readability_per_participant\n",
    "x = playing_piano_per_participant\n",
    "\n",
    "outlier_idxs = np.where(x < x.mean() + 2.5 * x.std())[0]\n",
    "x = x[outlier_idxs]\n",
    "y = y[outlier_idxs]\n",
    "# print(outlier_idxs)\n",
    "stats,_, y_hat = lm.test(x, y, \n",
    "                hypothesis_type=['gt', 'equal'], test_type='wald', return_preds=True,\n",
    "                      significance_level=0.05)\n",
    "print('R2:', cod(y, y_hat), correlation(y, y_hat))\n",
    "for p,st in zip(lm.params, stats):\n",
    "    print(p, st, st.reject_h0)\n",
    "    \n",
    "fig, ax = plt.subplots()\n",
    "ax.scatter(x, y)\n",
    "ax.plot(x, y_hat, c='black', linewidth=2)\n",
    "ax.set_ylabel('Dale-Chall readability score')\n",
    "ax.set_xlabel('Experience Playing Piano')\n",
    "plt.show()"
   ]
  },
  {
   "cell_type": "code",
   "execution_count": null,
   "metadata": {},
   "outputs": [],
   "source": [
    "lm = LinearModel()\n",
    "\n",
    "y = readability_per_participant\n",
    "x = listening_classical_music_per_participant\n",
    "\n",
    "outlier_idxs = np.where(x < x.mean() + 2.5 * x.std())[0]\n",
    "x = x[outlier_idxs]\n",
    "y = y[outlier_idxs]\n",
    "# print(outlier_idxs)\n",
    "stats, _, y_hat = lm.test(x, y, \n",
    "                hypothesis_type=['gt', 'equal'], test_type='wald', return_preds=True,\n",
    "                      significance_level=0.05)\n",
    "print('R2:', cod(y, y_hat), correlation(y, y_hat), spstats.spearmanr(x,y))\n",
    "for p,st in zip(lm.params, stats):\n",
    "    print(p, st, st.reject_h0)\n",
    "    \n",
    "fig, ax = plt.subplots()\n",
    "ax.scatter(x, y)\n",
    "ax.plot(x, y_hat, c='black', linewidth=2)\n",
    "ax.set_ylabel('Dale-Chall readability score')\n",
    "ax.set_xlabel('Listening Classical Music')\n",
    "plt.show()"
   ]
  },
  {
   "cell_type": "code",
   "execution_count": null,
   "metadata": {},
   "outputs": [],
   "source": [
    " listening_options =['Never',\n",
    " 'Very rarely',\n",
    " 'Rarely',\n",
    " 'Occasionally',\n",
    " 'Frequently',\n",
    " 'Very frequently']\n",
    "    \n",
    "groups = [y[x<2], y[np.logical_and(x>=2, x<4)], y[x>=4]]\n",
    "\n",
    "print(f_oneway(*groups))\n",
    "\n",
    "fig, ax = plt.subplots()\n",
    "ax.violinplot(groups, showmedians=True)\n",
    "pos = [1, 2, 3]\n",
    "ax.set_xticks(pos)\n",
    "ax.set_xticklabels(['Never/very rarely',\n",
    "                   'Occasionally',\n",
    "                   'Frequently'])\n",
    "ax.set_ylabel('Dale-Chall readability score')\n",
    "ax.set_xlabel('Listening to classical music')\n",
    "plt.show()\n",
    "# participant_info.listening_to_classical_music\n"
   ]
  },
  {
   "cell_type": "code",
   "execution_count": null,
   "metadata": {},
   "outputs": [],
   "source": [
    "readability_per_participant[np.logical_and(listening_classical_music_per_participant >4, \n",
    "                                           education_per_participant > 10,\n",
    "                                          )]\n",
    "               \n",
    "# playing_piano_per_participant \n",
    "# education_per_participant \n",
    "# listening_classical_music_per_participant \n"
   ]
  }
 ],
 "metadata": {
  "kernelspec": {
   "display_name": "Python 3",
   "language": "python",
   "name": "python3"
  },
  "language_info": {
   "codemirror_mode": {
    "name": "ipython",
    "version": 3
   },
   "file_extension": ".py",
   "mimetype": "text/x-python",
   "name": "python",
   "nbconvert_exporter": "python",
   "pygments_lexer": "ipython3",
   "version": "3.7.2"
  }
 },
 "nbformat": 4,
 "nbformat_minor": 4
}
