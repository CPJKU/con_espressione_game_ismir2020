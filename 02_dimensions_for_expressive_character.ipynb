{
 "cells": [
  {
   "cell_type": "markdown",
   "metadata": {},
   "source": [
    "# 2. What are the main descriptive dimensions along which listeners describe expressive performance?\n",
    "\n",
    "In this notebook (corresponding to Section 4 in the paper) we compute a possibility for expressive character dimensions (Section 4 in the paper) form based on the preprocessed term usage distribution in the Con Espressione Game.\n",
    "\n",
    "In the rest of this notebook is structured as follows:\n",
    "\n",
    "1. Loading the raw Con Espressione Game data\n",
    "2. Preprocessing\n",
    "3. Principal Component Analysis and Visualization\n",
    "\n",
    "This notebook requires numpy, pandas, scikit-learn, and matplotlib.\n",
    "\n",
    "The Con Espressione Game Data is available at: https://zenodo.org/record/3968828"
   ]
  },
  {
   "cell_type": "code",
   "execution_count": 453,
   "metadata": {},
   "outputs": [],
   "source": [
    "import warnings\n",
    "warnings.filterwarnings(\"ignore\")"
   ]
  },
  {
   "cell_type": "code",
   "execution_count": 454,
   "metadata": {},
   "outputs": [],
   "source": [
    "import matplotlib.pyplot as plt\n",
    "import numpy as np\n",
    "import matplotlib.cm as cm"
   ]
  },
  {
   "cell_type": "code",
   "execution_count": 455,
   "metadata": {},
   "outputs": [],
   "source": [
    "from __future__ import print_function\n",
    "import pandas as pd\n",
    "import copy\n",
    "from sklearn.feature_extraction.text import CountVectorizer, TfidfVectorizer\n",
    "from sklearn.decomposition import PCA"
   ]
  },
  {
   "cell_type": "markdown",
   "metadata": {},
   "source": [
    "# DATA LOADING\n",
    "\n",
    "Download data from https://zenodo.org/record/3968828 \n",
    "In this notebook, we are using the file con_espressione_game_answers.csv exclusively. After downloading, change path/to/con_espressione_game_dataset/con_espressione_game_answers.csv below."
   ]
  },
  {
   "cell_type": "code",
   "execution_count": 498,
   "metadata": {},
   "outputs": [
    {
     "name": "stdout",
     "output_type": "stream",
     "text": [
      "Number of answers:  1462\n",
      "Number of words in the answers:  3331\n",
      "Number of unique words in the answers:  1585\n"
     ]
    }
   ],
   "source": [
    "# load data using pandas\n",
    "\n",
    "df = pd.read_csv(\"/CHANGE/PATH//con_espressione_game_dataset/con_espressione_game_answers.csv\")\n",
    "list_of_w0 = \", \".join(df.answer).split(\", \")\n",
    "list_of_w = [w.strip().lower().replace(\",\",\"\") for w in list_of_w0 ]\n",
    "vocab = set(list_of_w)\n",
    "print(\"Number of answers: \", len(df))\n",
    "print(\"Number of words in the answers: \", len(list_of_w))\n",
    "print(\"Number of unique words in the answers: \", len(vocab))"
   ]
  },
  {
   "cell_type": "code",
   "execution_count": 477,
   "metadata": {},
   "outputs": [
    {
     "data": {
      "text/html": [
       "<div>\n",
       "<style scoped>\n",
       "    .dataframe tbody tr th:only-of-type {\n",
       "        vertical-align: middle;\n",
       "    }\n",
       "\n",
       "    .dataframe tbody tr th {\n",
       "        vertical-align: top;\n",
       "    }\n",
       "\n",
       "    .dataframe thead th {\n",
       "        text-align: right;\n",
       "    }\n",
       "</style>\n",
       "<table border=\"1\" class=\"dataframe\">\n",
       "  <thead>\n",
       "    <tr style=\"text-align: right;\">\n",
       "      <th></th>\n",
       "      <th>answer_id</th>\n",
       "      <th>participant_id</th>\n",
       "      <th>music_id</th>\n",
       "      <th>answer</th>\n",
       "      <th>original_answer</th>\n",
       "      <th>timestamp</th>\n",
       "      <th>favorite</th>\n",
       "      <th>translated_to_english</th>\n",
       "      <th>performer</th>\n",
       "      <th>piece_name</th>\n",
       "      <th>performance_name</th>\n",
       "    </tr>\n",
       "  </thead>\n",
       "  <tbody>\n",
       "    <tr>\n",
       "      <th>0</th>\n",
       "      <td>71</td>\n",
       "      <td>4</td>\n",
       "      <td>9</td>\n",
       "      <td>slow, sad, clear_phrasing</td>\n",
       "      <td>slow, sad, clear phrasing</td>\n",
       "      <td>2018-02-16 12:43:42</td>\n",
       "      <td>NaN</td>\n",
       "      <td>NaN</td>\n",
       "      <td>Casadesus</td>\n",
       "      <td>beethoven</td>\n",
       "      <td>09_3_2_2_Beethoven_Casadesus_Cut2_01.38-03.03</td>\n",
       "    </tr>\n",
       "    <tr>\n",
       "      <th>1</th>\n",
       "      <td>94</td>\n",
       "      <td>7</td>\n",
       "      <td>9</td>\n",
       "      <td>soft, tender</td>\n",
       "      <td>soft, tender</td>\n",
       "      <td>2018-02-16 14:14:39</td>\n",
       "      <td>NaN</td>\n",
       "      <td>NaN</td>\n",
       "      <td>Casadesus</td>\n",
       "      <td>beethoven</td>\n",
       "      <td>09_3_2_2_Beethoven_Casadesus_Cut2_01.38-03.03</td>\n",
       "    </tr>\n",
       "    <tr>\n",
       "      <th>2</th>\n",
       "      <td>130</td>\n",
       "      <td>10</td>\n",
       "      <td>9</td>\n",
       "      <td>ordinary</td>\n",
       "      <td>ordinary</td>\n",
       "      <td>2018-02-19 07:42:00</td>\n",
       "      <td>NaN</td>\n",
       "      <td>NaN</td>\n",
       "      <td>Casadesus</td>\n",
       "      <td>beethoven</td>\n",
       "      <td>09_3_2_2_Beethoven_Casadesus_Cut2_01.38-03.03</td>\n",
       "    </tr>\n",
       "    <tr>\n",
       "      <th>3</th>\n",
       "      <td>170</td>\n",
       "      <td>16</td>\n",
       "      <td>9</td>\n",
       "      <td>pacified</td>\n",
       "      <td>pacified</td>\n",
       "      <td>2018-03-04 13:44:56</td>\n",
       "      <td>NaN</td>\n",
       "      <td>NaN</td>\n",
       "      <td>Casadesus</td>\n",
       "      <td>beethoven</td>\n",
       "      <td>09_3_2_2_Beethoven_Casadesus_Cut2_01.38-03.03</td>\n",
       "    </tr>\n",
       "    <tr>\n",
       "      <th>4</th>\n",
       "      <td>235</td>\n",
       "      <td>36</td>\n",
       "      <td>9</td>\n",
       "      <td>blank</td>\n",
       "      <td>blank</td>\n",
       "      <td>2018-03-16 08:34:10</td>\n",
       "      <td>0.0</td>\n",
       "      <td>NaN</td>\n",
       "      <td>Casadesus</td>\n",
       "      <td>beethoven</td>\n",
       "      <td>09_3_2_2_Beethoven_Casadesus_Cut2_01.38-03.03</td>\n",
       "    </tr>\n",
       "  </tbody>\n",
       "</table>\n",
       "</div>"
      ],
      "text/plain": [
       "   answer_id  participant_id  music_id                     answer  \\\n",
       "0         71               4         9  slow, sad, clear_phrasing   \n",
       "1         94               7         9               soft, tender   \n",
       "2        130              10         9                   ordinary   \n",
       "3        170              16         9                   pacified   \n",
       "4        235              36         9                      blank   \n",
       "\n",
       "             original_answer            timestamp  favorite  \\\n",
       "0  slow, sad, clear phrasing  2018-02-16 12:43:42       NaN   \n",
       "1               soft, tender  2018-02-16 14:14:39       NaN   \n",
       "2                   ordinary  2018-02-19 07:42:00       NaN   \n",
       "3                   pacified  2018-03-04 13:44:56       NaN   \n",
       "4                      blank  2018-03-16 08:34:10       0.0   \n",
       "\n",
       "  translated_to_english  performer piece_name  \\\n",
       "0                   NaN  Casadesus  beethoven   \n",
       "1                   NaN  Casadesus  beethoven   \n",
       "2                   NaN  Casadesus  beethoven   \n",
       "3                   NaN  Casadesus  beethoven   \n",
       "4                   NaN  Casadesus  beethoven   \n",
       "\n",
       "                                performance_name  \n",
       "0  09_3_2_2_Beethoven_Casadesus_Cut2_01.38-03.03  \n",
       "1  09_3_2_2_Beethoven_Casadesus_Cut2_01.38-03.03  \n",
       "2  09_3_2_2_Beethoven_Casadesus_Cut2_01.38-03.03  \n",
       "3  09_3_2_2_Beethoven_Casadesus_Cut2_01.38-03.03  \n",
       "4  09_3_2_2_Beethoven_Casadesus_Cut2_01.38-03.03  "
      ]
     },
     "execution_count": 477,
     "metadata": {},
     "output_type": "execute_result"
    }
   ],
   "source": [
    "# Have a look at what the data looks like\n",
    "\n",
    "df.head()"
   ]
  },
  {
   "cell_type": "code",
   "execution_count": 478,
   "metadata": {},
   "outputs": [
    {
     "data": {
      "text/html": [
       "<div>\n",
       "<style scoped>\n",
       "    .dataframe tbody tr th:only-of-type {\n",
       "        vertical-align: middle;\n",
       "    }\n",
       "\n",
       "    .dataframe tbody tr th {\n",
       "        vertical-align: top;\n",
       "    }\n",
       "\n",
       "    .dataframe thead th {\n",
       "        text-align: right;\n",
       "    }\n",
       "</style>\n",
       "<table border=\"1\" class=\"dataframe\">\n",
       "  <thead>\n",
       "    <tr style=\"text-align: right;\">\n",
       "      <th></th>\n",
       "      <th>music_id</th>\n",
       "      <th>answer</th>\n",
       "      <th>piece_name</th>\n",
       "      <th>performer</th>\n",
       "    </tr>\n",
       "  </thead>\n",
       "  <tbody>\n",
       "    <tr>\n",
       "      <th>0</th>\n",
       "      <td>9</td>\n",
       "      <td>slow, sad, clear_phrasing</td>\n",
       "      <td>beethoven</td>\n",
       "      <td>Casadesus</td>\n",
       "    </tr>\n",
       "    <tr>\n",
       "      <th>1</th>\n",
       "      <td>9</td>\n",
       "      <td>soft, tender</td>\n",
       "      <td>beethoven</td>\n",
       "      <td>Casadesus</td>\n",
       "    </tr>\n",
       "    <tr>\n",
       "      <th>2</th>\n",
       "      <td>9</td>\n",
       "      <td>ordinary</td>\n",
       "      <td>beethoven</td>\n",
       "      <td>Casadesus</td>\n",
       "    </tr>\n",
       "    <tr>\n",
       "      <th>3</th>\n",
       "      <td>9</td>\n",
       "      <td>pacified</td>\n",
       "      <td>beethoven</td>\n",
       "      <td>Casadesus</td>\n",
       "    </tr>\n",
       "    <tr>\n",
       "      <th>4</th>\n",
       "      <td>9</td>\n",
       "      <td>blank</td>\n",
       "      <td>beethoven</td>\n",
       "      <td>Casadesus</td>\n",
       "    </tr>\n",
       "  </tbody>\n",
       "</table>\n",
       "</div>"
      ],
      "text/plain": [
       "   music_id                     answer piece_name  performer\n",
       "0         9  slow, sad, clear_phrasing  beethoven  Casadesus\n",
       "1         9               soft, tender  beethoven  Casadesus\n",
       "2         9                   ordinary  beethoven  Casadesus\n",
       "3         9                   pacified  beethoven  Casadesus\n",
       "4         9                      blank  beethoven  Casadesus"
      ]
     },
     "execution_count": 478,
     "metadata": {},
     "output_type": "execute_result"
    }
   ],
   "source": [
    "# Reduce to columns of interest\n",
    "\n",
    "df_short = df[[\"music_id\",\"answer\",\"piece_name\",\"performer\"]]\n",
    "df_short.head()"
   ]
  },
  {
   "cell_type": "code",
   "execution_count": 479,
   "metadata": {},
   "outputs": [
    {
     "data": {
      "text/html": [
       "<div>\n",
       "<style scoped>\n",
       "    .dataframe tbody tr th:only-of-type {\n",
       "        vertical-align: middle;\n",
       "    }\n",
       "\n",
       "    .dataframe tbody tr th {\n",
       "        vertical-align: top;\n",
       "    }\n",
       "\n",
       "    .dataframe thead th {\n",
       "        text-align: right;\n",
       "    }\n",
       "</style>\n",
       "<table border=\"1\" class=\"dataframe\">\n",
       "  <thead>\n",
       "    <tr style=\"text-align: right;\">\n",
       "      <th></th>\n",
       "      <th>answer</th>\n",
       "      <th>performer</th>\n",
       "      <th>piece_name</th>\n",
       "    </tr>\n",
       "    <tr>\n",
       "      <th>music_id</th>\n",
       "      <th></th>\n",
       "      <th></th>\n",
       "      <th></th>\n",
       "    </tr>\n",
       "  </thead>\n",
       "  <tbody>\n",
       "    <tr>\n",
       "      <th>1</th>\n",
       "      <td>floating, brisk, romantic, rebellious, fast, m...</td>\n",
       "      <td>Gieseking</td>\n",
       "      <td>bach</td>\n",
       "    </tr>\n",
       "    <tr>\n",
       "      <th>2</th>\n",
       "      <td>mechanic, dancing, simplistic, staccato, mecha...</td>\n",
       "      <td>Gould</td>\n",
       "      <td>bach</td>\n",
       "    </tr>\n",
       "    <tr>\n",
       "      <th>3</th>\n",
       "      <td>shy, magical, deep, delicate, sweet, longing, ...</td>\n",
       "      <td>Grimaud</td>\n",
       "      <td>bach</td>\n",
       "    </tr>\n",
       "    <tr>\n",
       "      <th>5</th>\n",
       "      <td>hasty, nimble, unanimous, fast, mechanical, bo...</td>\n",
       "      <td>Kempff</td>\n",
       "      <td>bach</td>\n",
       "    </tr>\n",
       "    <tr>\n",
       "      <th>6</th>\n",
       "      <td>searching, exploring, traditional, classical, ...</td>\n",
       "      <td>Richter</td>\n",
       "      <td>bach</td>\n",
       "    </tr>\n",
       "  </tbody>\n",
       "</table>\n",
       "</div>"
      ],
      "text/plain": [
       "                                                     answer  performer  \\\n",
       "music_id                                                                 \n",
       "1         floating, brisk, romantic, rebellious, fast, m...  Gieseking   \n",
       "2         mechanic, dancing, simplistic, staccato, mecha...      Gould   \n",
       "3         shy, magical, deep, delicate, sweet, longing, ...    Grimaud   \n",
       "5         hasty, nimble, unanimous, fast, mechanical, bo...     Kempff   \n",
       "6         searching, exploring, traditional, classical, ...    Richter   \n",
       "\n",
       "         piece_name  \n",
       "music_id             \n",
       "1              bach  \n",
       "2              bach  \n",
       "3              bach  \n",
       "5              bach  \n",
       "6              bach  "
      ]
     },
     "execution_count": 479,
     "metadata": {},
     "output_type": "execute_result"
    }
   ],
   "source": [
    "# Aggregate the answers per unique performance (unique music_id)\n",
    "\n",
    "aggregation_functions = {'answer': ', '.join, 'performer': max, 'piece_name': max}\n",
    "df_new = df.groupby(df_short['music_id']).aggregate(aggregation_functions)\n",
    "df_new.head()"
   ]
  },
  {
   "cell_type": "code",
   "execution_count": 480,
   "metadata": {},
   "outputs": [],
   "source": [
    "# a list of pieces as they occur in df_new\n",
    "\n",
    "pieces_list = list(df_new[\"piece_name\"])\n",
    "performer_list = list(df_new[\"performer\"])\n",
    "# unique pieces\n",
    "pieces = list(set(df_new[\"piece_name\"]))"
   ]
  },
  {
   "cell_type": "markdown",
   "metadata": {},
   "source": [
    "# DATA PREPROCESSING\n",
    "\n",
    "The data is preprocessed in several steps: answers in other languages are translated to English (not in this notebook) and terms are stemmed. A term is omitted if (1) it shows up less than three times in the dataset (its contribution to the global variance is minimal) or (2) it is used forall interpretations of the same piece (its piecewise entropy is  zero). Term usage per performance is capped before computing the PCA."
   ]
  },
  {
   "cell_type": "code",
   "execution_count": 481,
   "metadata": {},
   "outputs": [
    {
     "name": "stdout",
     "output_type": "stream",
     "text": [
      "(45, 216)\n"
     ]
    }
   ],
   "source": [
    "corpus1 = list(df_new.answer)\n",
    "tf_matrix = CountVectorizer(strip_accents = 'unicode',\n",
    "                            token_pattern=r\"(?u)\\b[^\\s]+\\b\",\n",
    "                                lowercase = True,\n",
    "                                min_df =3)# minimal number of occurences\n",
    "dtm = tf_matrix.fit_transform(corpus1)\n",
    "print(dtm.shape)"
   ]
  },
  {
   "cell_type": "code",
   "execution_count": 482,
   "metadata": {},
   "outputs": [],
   "source": [
    "unique_tags_per_performance = np.sum((dtm>0), axis=1)\n",
    "tags_per_performance = np.sum(dtm, axis=1)"
   ]
  },
  {
   "cell_type": "code",
   "execution_count": 483,
   "metadata": {},
   "outputs": [],
   "source": [
    "# data shape: N performances / M terms <-> N observations / M variables <-> N samples / M features\n",
    "\n",
    "data = dtm.toarray() \n",
    "tag_list = tf_matrix.get_feature_names()"
   ]
  },
  {
   "cell_type": "code",
   "execution_count": 484,
   "metadata": {},
   "outputs": [],
   "source": [
    "# helper function to find terms used for less than all - limit performances\n",
    "\n",
    "def once_per_piece_idx(data_array, limit = 1):\n",
    "    all_pieces_doubles = []\n",
    "    for ppp in range(len(pieces)): # loop over unique pieces\n",
    "        maskp = (np.array(pieces_list) == pieces[ppp])\n",
    "        data_idx = (data_array[maskp,:]>0) # get the occurence matrix related to a single piece\n",
    "        all_pieces_doubles.append((np.sum(data_idx, axis = 0) > data_idx.shape[0]-limit)) \n",
    "        # TRUE = 1 at terms that are used more than all_perf - limit times\n",
    "    once_per_piece_mask = (np.sum(np.array(all_pieces_doubles), axis = 0) > 0) \n",
    "    # TRUE = 1 at more than 1 occurence per piece in one piece at least\n",
    "    \n",
    "    print(\"percentage of terms used often: {0:.2f}%\".format(once_per_piece_mask.sum()/len(once_per_piece_mask)*100))\n",
    "    return once_per_piece_mask\n",
    "\n",
    "# helper function to find terms used in all pieces\n",
    "\n",
    "def in_all_piece_idx(data_array):\n",
    "    \n",
    "    tag_in_piece = np.zeros((len(pieces),dtm.shape[1]))\n",
    "    for ppp in range(len(pieces)):\n",
    "        maskp = (np.array(pieces_list) == pieces[ppp])\n",
    "        tag_in_piece[ppp,:] = np.sum(dtm[maskp,:], axis=0)\n",
    "    \n",
    "    in_all_pieces = np.sum((tag_in_piece>0), axis=0)\n",
    "    return in_all_pieces == len(pieces)"
   ]
  },
  {
   "cell_type": "code",
   "execution_count": 485,
   "metadata": {},
   "outputs": [
    {
     "name": "stdout",
     "output_type": "stream",
     "text": [
      "percentage of terms used often: 7.87%\n",
      "number of terms:  17\n",
      "['boring' 'clear' 'dramatic' 'dynamic' 'emotional' 'expressive' 'fast'\n",
      " 'happy' 'hard' 'heavy' 'interesting' 'light' 'mechanical' 'natural'\n",
      " 'nice' 'soft' 'soft_start']\n"
     ]
    }
   ],
   "source": [
    "# get an idea of indiscriminately used terms\n",
    "\n",
    "common_tags_idx = np.arange(0,len(tag_list))[once_per_piece_idx(data,2)] \n",
    "common_tags1 = np.array(tag_list)[common_tags_idx]\n",
    "print(\"number of terms: \",len(common_tags_idx))\n",
    "print(common_tags1)"
   ]
  },
  {
   "cell_type": "code",
   "execution_count": 486,
   "metadata": {},
   "outputs": [
    {
     "name": "stdout",
     "output_type": "stream",
     "text": [
      "number of terms:  7\n",
      "['dynamic' 'expressive' 'fast' 'loud' 'mechanical' 'slow' 'soft']\n"
     ]
    }
   ],
   "source": [
    "# get an idea of universally used terms\n",
    "\n",
    "all_tags_idx = np.arange(0,len(tag_list))[in_all_piece_idx(data)] \n",
    "all_tags1 = np.array(tag_list)[all_tags_idx]\n",
    "print(\"number of terms: \", len(all_tags_idx))\n",
    "print(all_tags1)"
   ]
  },
  {
   "cell_type": "code",
   "execution_count": 487,
   "metadata": {},
   "outputs": [
    {
     "name": "stdout",
     "output_type": "stream",
     "text": [
      "(45, 199) 199\n"
     ]
    }
   ],
   "source": [
    "# exclude indiscriminately used terms\n",
    "\n",
    "data = np.delete(data, common_tags_idx, axis= 1)\n",
    "\n",
    "# cap term usage per performance\n",
    "\n",
    "data[data>1]=1.5\n",
    "tag_list = list(np.delete(np.array(tag_list), common_tags_idx))\n",
    "print(data.shape, len(tag_list))"
   ]
  },
  {
   "cell_type": "markdown",
   "metadata": {},
   "source": [
    "# PCA: PERFORMANCE observations wiht TERM variables\n",
    "\n",
    "Reduce performance variables (= unique terms) to 4 major dimensions capturing the maximum variance"
   ]
  },
  {
   "cell_type": "code",
   "execution_count": 488,
   "metadata": {},
   "outputs": [
    {
     "data": {
      "text/plain": [
       "PCA(copy=True, iterated_power='auto', n_components=4, random_state=None,\n",
       "    svd_solver='auto', tol=0.0, whiten=False)"
      ]
     },
     "execution_count": 488,
     "metadata": {},
     "output_type": "execute_result"
    }
   ],
   "source": [
    "pca = PCA(n_components=4)\n",
    "pca.fit(data)"
   ]
  },
  {
   "cell_type": "code",
   "execution_count": 489,
   "metadata": {},
   "outputs": [
    {
     "name": "stdout",
     "output_type": "stream",
     "text": [
      "explained variance:  [0.09405447 0.0633868  0.0451725  0.03891689]\n",
      "total explained variance  0.24153066597348677\n",
      "singular values  [9.2163789  7.56606377 6.38715802 5.92842978]\n"
     ]
    }
   ],
   "source": [
    "print(\"explained variance: \",pca.explained_variance_ratio_)\n",
    "print(\"total explained variance \", pca.explained_variance_ratio_.sum())\n",
    "print(\"singular values \", pca.singular_values_)"
   ]
  },
  {
   "cell_type": "code",
   "execution_count": 490,
   "metadata": {},
   "outputs": [],
   "source": [
    "# helper function to plot\n",
    "\n",
    "def plotter(plotdata, annotations, color_idxs, piece_no, p_names, suffix=\"\"):\n",
    "    fig, ax = plt.subplots(figsize=(20,10))\n",
    "    all_color_idx_list = list()\n",
    "    clr_idxs_list\n",
    "    for color_idx in color_idxs:\n",
    "        all_color_idx_list += list(color_idx)\n",
    "    all_color_idx = np.array(list(set(all_color_idx_list)))\n",
    "    non_color_idx = np.delete(np.arange(0,plotdata.shape[0]), all_color_idx, axis=0)\n",
    "    colors = cm.rainbow(np.linspace(0, 1, len(color_idxs)))\n",
    "    \n",
    "    # TERM SCATTER PLOT\n",
    "    ax.scatter(plotdata[non_color_idx,0],plotdata[non_color_idx,1], s=10, c=\"black\", alpha=0.3, marker='x')\n",
    "    for k in range(len(color_idxs)):\n",
    "        ax.scatter(plotdata[color_idxs[k],0],plotdata[color_idxs[k],1], s=50, c=colors[k:k+1,:], marker='o', label=p_names[k] )\n",
    "\n",
    "    # TEXT ANNOTATION\n",
    "    for i in range(plotdata.shape[0]):\n",
    "        if i in all_color_idx:\n",
    "            ax.annotate(annotations[i], (plotdata[i,0], plotdata[i,1]))\n",
    "    # PERFORMANCE CENTROID        \n",
    "    for k in range(len(color_idxs)):\n",
    "        ax.scatter(plotdata[color_idxs[k],0].mean(),plotdata[color_idxs[k],1].mean(), s=20**2, c=colors[k:k+1,:], marker='D')  \n",
    "        \n",
    "    ax.title.set_text(\"embeddings {0} {1}\".format(pieces[piece_no], suffix))  \n",
    "    ax.legend(fontsize='medium')\n",
    "    plt.plot()\n",
    "\n",
    "    \n",
    "# helper function to compute the performer names and term idx pertaining to a single piece   \n",
    "\n",
    "def clr_idxs_list(number, data_array):\n",
    "    piece_idx = (np.array(pieces_list) == pieces[number])[:]\n",
    "    performer_names = np.array(performer_list)[piece_idx]\n",
    "    data_idx = data_array[piece_idx,:]\n",
    "    color_idxs = list()\n",
    "    for perf in range(data_idx.shape[0]):\n",
    "        color_idx = np.arange(0, data_array.shape[1])[(data_idx[perf,:] != 0.)]\n",
    "        color_idxs.append(color_idx)\n",
    "     \n",
    "    return color_idxs, performer_names"
   ]
  },
  {
   "cell_type": "code",
   "execution_count": 491,
   "metadata": {},
   "outputs": [
    {
     "data": {
      "image/png": "[encoded data removed]",
      "text/plain": [
       "<Figure size 1440x720 with 1 Axes>"
      ]
     },
     "metadata": {
      "needs_background": "light"
     },
     "output_type": "display_data"
    }
   ],
   "source": [
    "# visualize the result of the PCA\n",
    "\n",
    "which_piece = 8  # change this value to see different piecewise term distributions plotted: 0-8 \n",
    "color_idxs_d, perf_names = clr_idxs_list(which_piece, data[:,:])\n",
    "plotter(pca.components_.T,\n",
    "         tag_list, \n",
    "         color_idxs = color_idxs_d,\n",
    "         piece_no = which_piece,\n",
    "         p_names = perf_names)"
   ]
  },
  {
   "cell_type": "code",
   "execution_count": 492,
   "metadata": {},
   "outputs": [],
   "source": [
    "def strong_tag_by_dim(emb, dim, tag_list=tag_list, num = 5):\n",
    "    sort_idx = np.argsort(emb[dim,:])\n",
    "    for k in range(num):\n",
    "        print(np.array(tag_list)[sort_idx[-k-1]],emb[dim,sort_idx[-k-1]])\n",
    "    print(\" \")\n",
    "    for k in range(num):\n",
    "        print(np.array(tag_list)[sort_idx[k]],emb[dim,sort_idx[k]])\n",
    "    print(\" \")"
   ]
  },
  {
   "cell_type": "code",
   "execution_count": 493,
   "metadata": {},
   "outputs": [
    {
     "name": "stdout",
     "output_type": "stream",
     "text": [
      "DIMENSION: 1\n",
      "staccato 0.1775233625097122\n",
      "aggressive 0.1525503138159206\n",
      "chopped 0.13906746187647068\n",
      "rushed 0.12989270264619748\n",
      "mechanic 0.12956482568081593\n",
      " \n",
      "dreamy -0.20099425013487568\n",
      "delicate -0.20071563906438825\n",
      "slow -0.1978001748513871\n",
      "mellow -0.1660498146337268\n",
      "sad -0.16491700494362385\n",
      " \n",
      "DIMENSION: 2\n",
      "monotonous 0.2081078312873944\n",
      "mechanic 0.19321435809833856\n",
      "artificial 0.16316119895115308\n",
      "computer-generated 0.16316119895115302\n",
      "plain 0.16275878258206175\n",
      " \n",
      "too_fast -0.24399082228378352\n",
      "rushed -0.22514454209773438\n",
      "lively -0.2075602075714632\n",
      "hasty -0.20063950351359622\n",
      "nervous -0.18383655989168465\n",
      " \n",
      "DIMENSION: 3\n",
      "flowing 0.21741225273047757\n",
      "dark 0.18518605375158462\n",
      "warm 0.15602151074639484\n",
      "gentle 0.15439764632740938\n",
      "plain 0.15293183007533004\n",
      " \n",
      "passionate -0.35350895603105315\n",
      "slower -0.19747862757938972\n",
      "slow -0.18478145385500938\n",
      "tense -0.16538159925716062\n",
      "ponderous -0.13511333025449132\n",
      " \n",
      "DIMENSION: 4\n",
      "clean 0.24063522838644263\n",
      "very_nice 0.18513724589670966\n",
      "lively 0.18209606854914448\n",
      "joyful 0.17331294412838333\n",
      "bright 0.1731626028630581\n",
      " \n",
      "distant -0.2471118731332964\n",
      "gentle -0.21813186325364667\n",
      "mysterious -0.18800833080307855\n",
      "professional -0.15011805663897954\n",
      "accurate -0.14216728703184012\n",
      " \n"
     ]
    }
   ],
   "source": [
    "# print the strongest (positive and negative) loading terms\n",
    "\n",
    "for i in range(4):\n",
    "    print(\"DIMENSION:\", i+1)\n",
    "    strong_tag_by_dim(pca.components_,i)"
   ]
  },
  {
   "cell_type": "code",
   "execution_count": 495,
   "metadata": {},
   "outputs": [],
   "source": [
    "# save the PCA data for use with other notebooks\n",
    "\n",
    "data3 = data/np.outer(np.sum(data, axis=1),np.ones(data.shape[1]))\n",
    "# performance embeddings as weighted an nomralized sum of terms used in the description\n",
    "perf_emb3 = np.matmul(data3,pca.components_.T)\n",
    "df_embedding = pd.DataFrame(index = df_new.index, \n",
    "                            columns = [\"dim_1\", \"dim_2\", \"dim_3\", \"dim_4\"],\n",
    "                            data = perf_emb3)\n",
    "df_final = pd.concat([df_embedding, df_new], axis=1)\n",
    "# save as csv file\n",
    "df_final.to_csv(\"text_embeddings.csv\")"
   ]
  }
 ],
 "metadata": {
  "kernelspec": {
   "display_name": "Python 3",
   "language": "python",
   "name": "python3"
  },
  "language_info": {
   "codemirror_mode": {
    "name": "ipython",
    "version": 3
   },
   "file_extension": ".py",
   "mimetype": "text/x-python",
   "name": "python",
   "nbconvert_exporter": "python",
   "pygments_lexer": "ipython3",
   "version": "3.7.6"
  }
 },
 "nbformat": 4,
 "nbformat_minor": 4
}
